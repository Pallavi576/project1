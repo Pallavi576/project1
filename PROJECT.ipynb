{
 "cells": [
  {
   "cell_type": "code",
   "execution_count": null,
   "id": "1ed0699d-e493-4a1b-a7bc-38060f4942dd",
   "metadata": {},
   "outputs": [],
   "source": [
    "import os\n",
    "import shutil\n",
    "\n",
    "# Path to the folder you want to organize\n",
    "folder_path = r\"C:\\Users\\PALLAVI\\OneDrive\\Documents\"  # Change this to your path\n",
    "\n",
    "# Dictionary of folder names and file extensions\n",
    "file_types = {\n",
    "    \"Images\": [\".jpg\", \".jpeg\", \".png\", \".gif\"],\n",
    "    \"Documents\": [\".pdf\", \".docx\", \".txt\", \".xlsx\"],\n",
    "    \"Videos\": [\".mp4\", \".mkv\", \".mov\"],\n",
    "    \"Music\": [\".mp3\", \".wav\"],\n",
    "    \"Archives\": [\".zip\", \".rar\", \".tar\", \".gz\"],\n",
    "    \"Programs\": [\".exe\", \".msi\"],\n",
    "    \"Others\": []\n",
    "}\n",
    "\n",
    "# Create folders if not exist\n",
    "for folder in file_types:\n",
    "    folder_name = os.path.join(folder_path, folder)\n",
    "    if not os.path.exists(folder_name):\n",
    "        os.makedirs(folder_name)\n",
    "\n",
    "# Move files to their respective folders\n",
    "for filename in os.listdir(folder_path):\n",
    "    file_ext = os.path.splitext(filename)[1].lower()\n",
    "    file_moved = False\n",
    "\n",
    "    for folder, extensions in file_types.items():\n",
    "        if file_ext in extensions:\n",
    "            src = os.path.join(folder_path, filename)\n",
    "            dest = os.path.join(folder_path, folder, filename)\n",
    "            shutil.move(src, dest)\n",
    "            file_moved = True\n",
    "            break\n",
    "\n",
    "    # Move unknown types to \"Others\"\n",
    "    if not file_moved and os.path.isfile(os.path.join(folder_path, filename)):\n",
    "        shutil.move(os.path.join(folder_path, filename),\n",
    "                    os.path.join(folder_path, \"Others\", filename))\n",
    "\n",
    "print(\"Files organized successfully!\")"
   ]
  },
  {
   "cell_type": "code",
   "execution_count": null,
   "id": "b5c252ef-fe4c-42a2-a75d-0c967d8af3ad",
   "metadata": {},
   "outputs": [],
   "source": []
  }
 ],
 "metadata": {
  "kernelspec": {
   "display_name": "Python 3 (ipykernel)",
   "language": "python",
   "name": "python3"
  },
  "language_info": {
   "codemirror_mode": {
    "name": "ipython",
    "version": 3
   },
   "file_extension": ".py",
   "mimetype": "text/x-python",
   "name": "python",
   "nbconvert_exporter": "python",
   "pygments_lexer": "ipython3",
   "version": "3.12.7"
  }
 },
 "nbformat": 4,
 "nbformat_minor": 5
}
