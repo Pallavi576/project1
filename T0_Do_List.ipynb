{
 "cells": [
  {
   "cell_type": "code",
   "execution_count": null,
   "id": "d150b891-b28f-4f92-be27-bb7d9dafe580",
   "metadata": {},
   "outputs": [
    {
     "name": "stdout",
     "output_type": "stream",
     "text": [
      "\n",
      "Options: add, remove, show, exit\n"
     ]
    },
    {
     "name": "stdin",
     "output_type": "stream",
     "text": [
      "What do you want to do?  add\n",
      "Enter a task:  gathering the resourceses\n"
     ]
    },
    {
     "name": "stdout",
     "output_type": "stream",
     "text": [
      "\n",
      "Options: add, remove, show, exit\n"
     ]
    },
    {
     "name": "stdin",
     "output_type": "stream",
     "text": [
      "What do you want to do?  add\n"
     ]
    }
   ],
   "source": [
    "def show_tasks(tasks):\n",
    "    print(\"\\nYour To-Do List:\")\n",
    "    for i, task in enumerate(tasks):\n",
    "        print(f\"{i+1}. {task}\")\n",
    "\n",
    "def main():\n",
    "    tasks = []\n",
    "    while True:\n",
    "        print(\"\\nOptions: add, remove, show, exit\")\n",
    "        choice = input(\"What do you want to do? \").lower()\n",
    "        if choice == \"add\":\n",
    "            task = input(\"Enter a task: \")\n",
    "            tasks.append(task)\n",
    "        elif choice == \"remove\":\n",
    "            show_tasks(tasks)\n",
    "            idx = int(input(\"Enter task number to remove: \")) - 1\n",
    "            if 0 <= idx < len(tasks):\n",
    "                tasks.pop(idx)\n",
    "        elif choice == \"show\":\n",
    "            show_tasks(tasks)\n",
    "        elif choice == \"exit\":\n",
    "            break\n",
    "\n",
    "main()\n"
   ]
  },
  {
   "cell_type": "code",
   "execution_count": null,
   "id": "9dc0541d-fd06-4160-ae29-025f2105ad17",
   "metadata": {},
   "outputs": [],
   "source": []
  }
 ],
 "metadata": {
  "kernelspec": {
   "display_name": "Python 3 (ipykernel)",
   "language": "python",
   "name": "python3"
  },
  "language_info": {
   "codemirror_mode": {
    "name": "ipython",
    "version": 3
   },
   "file_extension": ".py",
   "mimetype": "text/x-python",
   "name": "python",
   "nbconvert_exporter": "python",
   "pygments_lexer": "ipython3",
   "version": "3.12.7"
  }
 },
 "nbformat": 4,
 "nbformat_minor": 5
}
